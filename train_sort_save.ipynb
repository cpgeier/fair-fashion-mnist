{
  "nbformat": 4,
  "nbformat_minor": 0,
  "metadata": {
    "colab": {
      "name": "train_sort_save.ipynb",
      "version": "0.3.2",
      "provenance": [],
      "collapsed_sections": []
    },
    "language_info": {
      "codemirror_mode": {
        "name": "ipython",
        "version": 3
      },
      "file_extension": ".py",
      "mimetype": "text/x-python",
      "name": "python",
      "nbconvert_exporter": "python",
      "pygments_lexer": "ipython3",
      "version": "3.6.7"
    },
    "kernelspec": {
      "name": "python3",
      "display_name": "Python 3"
    },
    "accelerator": "GPU"
  },
  "cells": [
    {
      "cell_type": "markdown",
      "metadata": {
        "id": "FHUbR9O9h6sQ",
        "colab_type": "text"
      },
      "source": [
        "# Fashion-MNIST Near Duplicates\n",
        "## Exploring the effects of near duplicate removal on a popular ML dataset\n",
        "\n",
        "![](https://imgur.com/961Exhb.png)\n",
        "\n",
        "With this notebook you can easily train and visualize near-duplicates in the Fashion MNIST dataset. Please scroll to the \"Viewing sorted pairs\" section for more examples of near duplicate images.\n",
        "\n",
        "MNIST and Fashion MNIST are extremely popular for testing in the machine\n",
        "learning space. Fashion MNIST improves on MNIST by introducing a harder\n",
        "problem, increasing the diversity of testing sets, and more accurately representing\n",
        "a modern computer vision task. Near-duplicates between testing and training sets artificially increase the\n",
        "testing accuracy of machine learning models. This notebook identifies near-duplicate\n",
        "images in Fashion MNIST and you can refer to the [github repo](https://github.com/cpgeier/fair-fashion-mnist) for more information and additional scripts.\n",
        "\n",
        "Running the full script saves dup files to your drive which are pickle files containing pairs of images sorted by similarity, which are used by other scripts in the Github repo."
      ]
    },
    {
      "cell_type": "markdown",
      "metadata": {
        "id": "xmrZYgJYiRVn",
        "colab_type": "text"
      },
      "source": [
        "### Training"
      ]
    },
    {
      "cell_type": "code",
      "metadata": {
        "colab_type": "code",
        "id": "Zo-Yk6LFGfSf",
        "outputId": "e86e4cdb-ddc2-4602-98ce-dce6c36e550e",
        "colab": {
          "base_uri": "https://localhost:8080/",
          "height": 153
        }
      },
      "source": [
        "import matplotlib.pyplot as plt\n",
        "import tensorflow as tf\n",
        "import numpy as np\n",
        "import pickle\n",
        "(x_train, y_train), (x_test, y_test) = tf.keras.datasets.fashion_mnist.load_data()\n",
        "\n",
        "# add empty color dimension\n",
        "x_train = np.expand_dims(x_train, -1)\n",
        "x_test = np.expand_dims(x_test, -1)"
      ],
      "execution_count": 1,
      "outputs": [
        {
          "output_type": "stream",
          "text": [
            "Downloading data from https://storage.googleapis.com/tensorflow/tf-keras-datasets/train-labels-idx1-ubyte.gz\n",
            "32768/29515 [=================================] - 0s 0us/step\n",
            "Downloading data from https://storage.googleapis.com/tensorflow/tf-keras-datasets/train-images-idx3-ubyte.gz\n",
            "26427392/26421880 [==============================] - 0s 0us/step\n",
            "Downloading data from https://storage.googleapis.com/tensorflow/tf-keras-datasets/t10k-labels-idx1-ubyte.gz\n",
            "8192/5148 [===============================================] - 0s 0us/step\n",
            "Downloading data from https://storage.googleapis.com/tensorflow/tf-keras-datasets/t10k-images-idx3-ubyte.gz\n",
            "4423680/4422102 [==============================] - 0s 0us/step\n"
          ],
          "name": "stdout"
        }
      ]
    },
    {
      "cell_type": "code",
      "metadata": {
        "colab_type": "code",
        "id": "W7gMbs70GxA7",
        "outputId": "45fc1317-ede5-4f77-875b-35b0171a4e07",
        "colab": {
          "base_uri": "https://localhost:8080/",
          "height": 870
        }
      },
      "source": [
        "model = tf.keras.models.Sequential()\n",
        "model.add(tf.keras.layers.BatchNormalization(input_shape=x_train.shape[1:]))\n",
        "model.add(tf.keras.layers.Conv2D(64, (5, 5), padding='same', activation='elu'))\n",
        "model.add(tf.keras.layers.MaxPooling2D(pool_size=(2, 2), strides=(2,2)))\n",
        "model.add(tf.keras.layers.Dropout(0.25))\n",
        "\n",
        "model.add(tf.keras.layers.BatchNormalization(input_shape=x_train.shape[1:]))\n",
        "model.add(tf.keras.layers.Conv2D(128, (5, 5), padding='same', activation='elu'))\n",
        "model.add(tf.keras.layers.MaxPooling2D(pool_size=(2, 2)))\n",
        "model.add(tf.keras.layers.Dropout(0.25))\n",
        "\n",
        "model.add(tf.keras.layers.BatchNormalization(input_shape=x_train.shape[1:]))\n",
        "model.add(tf.keras.layers.Conv2D(256, (5, 5), padding='same', activation='elu'))\n",
        "model.add(tf.keras.layers.MaxPooling2D(pool_size=(2, 2), strides=(2,2)))\n",
        "model.add(tf.keras.layers.Dropout(0.25))\n",
        "\n",
        "model.add(tf.keras.layers.Flatten())\n",
        "model.add(tf.keras.layers.Dense(256))\n",
        "model.add(tf.keras.layers.Activation('elu'))\n",
        "model.add(tf.keras.layers.Dropout(0.5))\n",
        "model.add(tf.keras.layers.Dense(10))\n",
        "model.add(tf.keras.layers.Activation('softmax'))\n",
        "model.summary()"
      ],
      "execution_count": 2,
      "outputs": [
        {
          "output_type": "stream",
          "text": [
            "WARNING:tensorflow:From /usr/local/lib/python3.6/dist-packages/tensorflow/python/ops/resource_variable_ops.py:435: colocate_with (from tensorflow.python.framework.ops) is deprecated and will be removed in a future version.\n",
            "Instructions for updating:\n",
            "Colocations handled automatically by placer.\n",
            "WARNING:tensorflow:From /usr/local/lib/python3.6/dist-packages/tensorflow/python/keras/layers/core.py:143: calling dropout (from tensorflow.python.ops.nn_ops) with keep_prob is deprecated and will be removed in a future version.\n",
            "Instructions for updating:\n",
            "Please use `rate` instead of `keep_prob`. Rate should be set to `rate = 1 - keep_prob`.\n",
            "_________________________________________________________________\n",
            "Layer (type)                 Output Shape              Param #   \n",
            "=================================================================\n",
            "batch_normalization_v1 (Batc (None, 28, 28, 1)         4         \n",
            "_________________________________________________________________\n",
            "conv2d (Conv2D)              (None, 28, 28, 64)        1664      \n",
            "_________________________________________________________________\n",
            "max_pooling2d (MaxPooling2D) (None, 14, 14, 64)        0         \n",
            "_________________________________________________________________\n",
            "dropout (Dropout)            (None, 14, 14, 64)        0         \n",
            "_________________________________________________________________\n",
            "batch_normalization_v1_1 (Ba (None, 14, 14, 64)        256       \n",
            "_________________________________________________________________\n",
            "conv2d_1 (Conv2D)            (None, 14, 14, 128)       204928    \n",
            "_________________________________________________________________\n",
            "max_pooling2d_1 (MaxPooling2 (None, 7, 7, 128)         0         \n",
            "_________________________________________________________________\n",
            "dropout_1 (Dropout)          (None, 7, 7, 128)         0         \n",
            "_________________________________________________________________\n",
            "batch_normalization_v1_2 (Ba (None, 7, 7, 128)         512       \n",
            "_________________________________________________________________\n",
            "conv2d_2 (Conv2D)            (None, 7, 7, 256)         819456    \n",
            "_________________________________________________________________\n",
            "max_pooling2d_2 (MaxPooling2 (None, 3, 3, 256)         0         \n",
            "_________________________________________________________________\n",
            "dropout_2 (Dropout)          (None, 3, 3, 256)         0         \n",
            "_________________________________________________________________\n",
            "flatten (Flatten)            (None, 2304)              0         \n",
            "_________________________________________________________________\n",
            "dense (Dense)                (None, 256)               590080    \n",
            "_________________________________________________________________\n",
            "activation (Activation)      (None, 256)               0         \n",
            "_________________________________________________________________\n",
            "dropout_3 (Dropout)          (None, 256)               0         \n",
            "_________________________________________________________________\n",
            "dense_1 (Dense)              (None, 10)                2570      \n",
            "_________________________________________________________________\n",
            "activation_1 (Activation)    (None, 10)                0         \n",
            "=================================================================\n",
            "Total params: 1,619,470\n",
            "Trainable params: 1,619,084\n",
            "Non-trainable params: 386\n",
            "_________________________________________________________________\n"
          ],
          "name": "stdout"
        }
      ]
    },
    {
      "cell_type": "code",
      "metadata": {
        "colab_type": "code",
        "id": "pWEYmd_hIWg8",
        "outputId": "c2b18937-a946-4868-f6b6-647c99d9020f",
        "colab": {
          "base_uri": "https://localhost:8080/",
          "height": 88
        }
      },
      "source": [
        "import os\n",
        "\n",
        "model.compile(\n",
        "    optimizer=tf.train.AdamOptimizer(learning_rate=1e-3, ),\n",
        "    loss=tf.keras.losses.sparse_categorical_crossentropy,\n",
        "    metrics=['sparse_categorical_accuracy']\n",
        ")\n",
        "\n",
        "def train_gen(batch_size):\n",
        "  while True:\n",
        "    offset = np.random.randint(0, x_train.shape[0] - batch_size)\n",
        "    yield x_train[offset:offset+batch_size], y_train[offset:offset + batch_size]\n",
        "    \n",
        "\n",
        "model.fit_generator(\n",
        "    train_gen(1024),\n",
        "    epochs=1,\n",
        "    steps_per_epoch=1000,\n",
        "    validation_data=(x_test, y_test),\n",
        ")"
      ],
      "execution_count": 3,
      "outputs": [
        {
          "output_type": "stream",
          "text": [
            "10000/10000 [==============================] - 1s 100us/sample - loss: 0.2451 - sparse_categorical_accuracy: 0.9192\n",
            "1000/1000 [==============================] - 147s 147ms/step - loss: 0.3229 - sparse_categorical_accuracy: 0.8899 - val_loss: 0.2443 - val_sparse_categorical_accuracy: 0.9192\n"
          ],
          "name": "stdout"
        },
        {
          "output_type": "execute_result",
          "data": {
            "text/plain": [
              "<tensorflow.python.keras.callbacks.History at 0x7ff0f08660f0>"
            ]
          },
          "metadata": {
            "tags": []
          },
          "execution_count": 3
        }
      ]
    },
    {
      "cell_type": "code",
      "metadata": {
        "id": "Tp5-SurUV8no",
        "colab_type": "code",
        "outputId": "520924c3-ec55-404d-c1a5-8485e7b65a89",
        "colab": {
          "base_uri": "https://localhost:8080/",
          "height": 54
        }
      },
      "source": [
        "model.save(\"model.h5\")"
      ],
      "execution_count": 0,
      "outputs": [
        {
          "output_type": "stream",
          "text": [
            "WARNING:tensorflow:TensorFlow optimizers do not make it possible to access optimizer attributes or optimizer state after instantiation. As a result, we cannot save the optimizer as part of the model save file.You will have to compile your model again after loading it. Prefer using a Keras optimizer instead (see keras.io/optimizers).\n"
          ],
          "name": "stdout"
        }
      ]
    },
    {
      "cell_type": "markdown",
      "metadata": {
        "id": "R-pqvJyYieUj",
        "colab_type": "text"
      },
      "source": [
        "### Feature vector by removing layers"
      ]
    },
    {
      "cell_type": "code",
      "metadata": {
        "colab_type": "code",
        "id": "IUPYpmQMwLSz",
        "colab": {}
      },
      "source": [
        "max_model = tf.keras.models.Model(inputs=model.input, outputs=model.layers[-6].output)"
      ],
      "execution_count": 0,
      "outputs": []
    },
    {
      "cell_type": "markdown",
      "metadata": {
        "id": "BhURSGH3ipT4",
        "colab_type": "text"
      },
      "source": [
        "### Sorting data to only compare similarly classified images"
      ]
    },
    {
      "cell_type": "code",
      "metadata": {
        "colab_type": "code",
        "id": "0DguJHBy16_R",
        "colab": {}
      },
      "source": [
        "inds = y_train.argsort()\n",
        "sorted_x_train = x_train[inds]\n",
        "sorted_y_train = np.sort(y_train)"
      ],
      "execution_count": 0,
      "outputs": []
    },
    {
      "cell_type": "code",
      "metadata": {
        "colab_type": "code",
        "id": "AT4Y7c9XheGr",
        "colab": {}
      },
      "source": [
        "x_train_predictions = max_model.predict(sorted_x_train)"
      ],
      "execution_count": 0,
      "outputs": []
    },
    {
      "cell_type": "code",
      "metadata": {
        "colab_type": "code",
        "id": "U2AZNw-qKuED",
        "colab": {}
      },
      "source": [
        "inds = y_test.argsort()\n",
        "sorted_x_test = x_test[inds]\n",
        "sorted_y_test = np.sort(y_test)"
      ],
      "execution_count": 0,
      "outputs": []
    },
    {
      "cell_type": "code",
      "metadata": {
        "colab_type": "code",
        "id": "7-O8HgfqDUIK",
        "colab": {}
      },
      "source": [
        "x_test_predictions = max_model.predict(sorted_x_test)"
      ],
      "execution_count": 0,
      "outputs": []
    },
    {
      "cell_type": "markdown",
      "metadata": {
        "id": "MEPl0igDi6gz",
        "colab_type": "text"
      },
      "source": [
        "### Calculate and save distances between feature vectors\n",
        "\n",
        "If demo is set to true you can move to the next section to view the results on the first image class."
      ]
    },
    {
      "cell_type": "code",
      "metadata": {
        "colab_type": "code",
        "id": "dv2vl6NIQTno",
        "outputId": "dc3d80c4-4f61-4000-9203-f055f94d06d6",
        "colab": {
          "base_uri": "https://localhost:8080/",
          "height": 51
        }
      },
      "source": [
        "demo = True # Set to false if you would like to save all labels\n",
        "dups = []\n",
        "j = 0\n",
        "prev = 0\n",
        "for i in range(len(sorted_x_train)):\n",
        "    j = 1000 * sorted_y_train[i]\n",
        "    while j < len(sorted_x_test) and sorted_y_test[j] == sorted_y_train[i]:\n",
        "        dist = np.linalg.norm(x_train_predictions[i]-x_test_predictions[j])\n",
        "        if i != j:\n",
        "            dups.append([i,j,dist])\n",
        "        j += 1\n",
        "    if sorted_y_train[i] != prev:\n",
        "      print(\"Saving: \" + str(prev))\n",
        "      dups.sort(key=lambda x: x[2])\n",
        "      pickle_out = open(\"dups\" + str(prev) + \".pickle\",\"wb\")\n",
        "      pickle.dump(dups, pickle_out)\n",
        "      pickle_out.close()\n",
        "      if demo:\n",
        "        break\n",
        "      dups = []\n",
        "    prev = sorted_y_train[i]\n",
        "    if i % 10000 == 0:\n",
        "      print(\"On image:\",i)\n",
        "\n",
        "if not demo:\n",
        "  # Still need to save the last label...\n",
        "  dups.sort(key=lambda x: x[2])\n",
        "  pickle_out = open(\"dups\" + str(prev) + \".pickle\",\"wb\")\n",
        "  pickle.dump(dups, pickle_out)\n",
        "  pickle_out.close()"
      ],
      "execution_count": 22,
      "outputs": [
        {
          "output_type": "stream",
          "text": [
            "On image: 0\n",
            "Saving: 0\n"
          ],
          "name": "stdout"
        }
      ]
    },
    {
      "cell_type": "markdown",
      "metadata": {
        "id": "ftfpbAIKHJl0",
        "colab_type": "text"
      },
      "source": [
        "### Viewing sorted pairs"
      ]
    },
    {
      "cell_type": "code",
      "metadata": {
        "id": "1XDjkNTGIe6E",
        "colab_type": "code",
        "colab": {
          "base_uri": "https://localhost:8080/",
          "height": 2517
        },
        "outputId": "3c28e2a3-6623-41f2-f7aa-df5e974b1a2e"
      },
      "source": [
        "import matplotlib.pyplot as plt\n",
        "\n",
        "# A good way to visually see that things are working above\n",
        "for i in range(0,10):\n",
        "    img_1 = np.squeeze(sorted_x_train[dups[i][0]], -1)\n",
        "    img_2 = np.squeeze(sorted_x_test[dups[i][1]], -1)\n",
        "    print('Distance:',dups[i][2])\n",
        "    print('First image index:',dups[i][0])\n",
        "    print('Second image index',dups[i][1])\n",
        "    f, axarr = plt.subplots(1,2)\n",
        "    axarr[0].title.set_fontsize(12)\n",
        "    axarr[0].title.set_text(\"Image from Training Set\")\n",
        "    axarr[0].grid(False)\n",
        "    axarr[0].imshow(img_1, cmap='gray_r')\n",
        "    axarr[1].title.set_fontsize(12)\n",
        "    axarr[1].title.set_text(\"Image from Testing Set\")\n",
        "    axarr[1].grid(False)\n",
        "    axarr[1].imshow(img_2, cmap='gray_r')\n",
        "    plt.show()"
      ],
      "execution_count": 23,
      "outputs": [
        {
          "output_type": "stream",
          "text": [
            "Distance: 0.53871244\n",
            "First image index: 106\n",
            "Second image index 850\n"
          ],
          "name": "stdout"
        },
        {
          "output_type": "display_data",
          "data": {
            "image/png": "[encoded data removed]",
            "text/plain": [
              "<Figure size 432x288 with 2 Axes>"
            ]
          },
          "metadata": {
            "tags": []
          }
        },
        {
          "output_type": "stream",
          "text": [
            "Distance: 3.2328997\n",
            "First image index: 219\n",
            "Second image index 788\n"
          ],
          "name": "stdout"
        },
        {
          "output_type": "display_data",
          "data": {
            "image/png": "[encoded data removed]",
            "text/plain": [
              "<Figure size 432x288 with 2 Axes>"
            ]
          },
          "metadata": {
            "tags": []
          }
        },
        {
          "output_type": "stream",
          "text": [
            "Distance: 7.716415\n",
            "First image index: 2834\n",
            "Second image index 149\n"
          ],
          "name": "stdout"
        },
        {
          "output_type": "display_data",
          "data": {
            "image/png": "[encoded data removed]",
            "text/plain": [
              "<Figure size 432x288 with 2 Axes>"
            ]
          },
          "metadata": {
            "tags": []
          }
        },
        {
          "output_type": "stream",
          "text": [
            "Distance: 7.7996144\n",
            "First image index: 1016\n",
            "Second image index 366\n"
          ],
          "name": "stdout"
        },
        {
          "output_type": "display_data",
          "data": {
            "image/png": "[encoded data removed]",
            "text/plain": [
              "<Figure size 432x288 with 2 Axes>"
            ]
          },
          "metadata": {
            "tags": []
          }
        },
        {
          "output_type": "stream",
          "text": [
            "Distance: 8.384586\n",
            "First image index: 3911\n",
            "Second image index 788\n"
          ],
          "name": "stdout"
        },
        {
          "output_type": "display_data",
          "data": {
            "image/png": "[encoded data removed]",
            "text/plain": [
              "<Figure size 432x288 with 2 Axes>"
            ]
          },
          "metadata": {
            "tags": []
          }
        },
        {
          "output_type": "stream",
          "text": [
            "Distance: 9.069175\n",
            "First image index: 5539\n",
            "Second image index 122\n"
          ],
          "name": "stdout"
        },
        {
          "output_type": "display_data",
          "data": {
            "image/png": "[encoded data removed]",
            "text/plain": [
              "<Figure size 432x288 with 2 Axes>"
            ]
          },
          "metadata": {
            "tags": []
          }
        },
        {
          "output_type": "stream",
          "text": [
            "Distance: 10.759089\n",
            "First image index: 445\n",
            "Second image index 979\n"
          ],
          "name": "stdout"
        },
        {
          "output_type": "display_data",
          "data": {
            "image/png": "[encoded data removed]",
            "text/plain": [
              "<Figure size 432x288 with 2 Axes>"
            ]
          },
          "metadata": {
            "tags": []
          }
        },
        {
          "output_type": "stream",
          "text": [
            "Distance: 10.772279\n",
            "First image index: 533\n",
            "Second image index 257\n"
          ],
          "name": "stdout"
        },
        {
          "output_type": "display_data",
          "data": {
            "image/png": "[encoded data removed]",
            "text/plain": [
              "<Figure size 432x288 with 2 Axes>"
            ]
          },
          "metadata": {
            "tags": []
          }
        },
        {
          "output_type": "stream",
          "text": [
            "Distance: 11.041869\n",
            "First image index: 453\n",
            "Second image index 87\n"
          ],
          "name": "stdout"
        },
        {
          "output_type": "display_data",
          "data": {
            "image/png": "[encoded data removed]",
            "text/plain": [
              "<Figure size 432x288 with 2 Axes>"
            ]
          },
          "metadata": {
            "tags": []
          }
        },
        {
          "output_type": "stream",
          "text": [
            "Distance: 11.127656\n",
            "First image index: 1073\n",
            "Second image index 616\n"
          ],
          "name": "stdout"
        },
        {
          "output_type": "display_data",
          "data": {
            "image/png": "[encoded data removed]",
            "text/plain": [
              "<Figure size 432x288 with 2 Axes>"
            ]
          },
          "metadata": {
            "tags": []
          }
        }
      ]
    },
    {
      "cell_type": "markdown",
      "metadata": {
        "id": "6psX9hcdF7ir",
        "colab_type": "text"
      },
      "source": [
        "### Saving dup files to Google Drive"
      ]
    },
    {
      "cell_type": "code",
      "metadata": {
        "id": "0yO54Nayz4_8",
        "colab_type": "code",
        "colab": {}
      },
      "source": [
        "from google.colab import auth\n",
        "from googleapiclient.http import MediaFileUpload\n",
        "from googleapiclient.discovery import build\n",
        "\n",
        "auth.authenticate_user()"
      ],
      "execution_count": 0,
      "outputs": []
    },
    {
      "cell_type": "code",
      "metadata": {
        "id": "AKqKZ0jM0ISo",
        "colab_type": "code",
        "colab": {}
      },
      "source": [
        "drive_service = build('drive', 'v3')\n",
        "\n",
        "def save_file_to_drive(name, path):\n",
        "    file_metadata = {\n",
        "    'name': name,\n",
        "    'mimeType': 'application/octet-stream'\n",
        "    }\n",
        "    media = MediaFileUpload(path, \n",
        "                  mimetype='application/octet-stream',\n",
        "                  resumable=True)\n",
        "    created = drive_service.files().create(body=file_metadata,\n",
        "                                 media_body=media,\n",
        "                                 fields='id').execute()\n",
        "\n",
        "    print('File ID: {}'.format(created.get('id')))\n",
        "\n",
        "    return created"
      ],
      "execution_count": 0,
      "outputs": []
    },
    {
      "cell_type": "code",
      "metadata": {
        "id": "EvWoqJbD0V4a",
        "colab_type": "code",
        "outputId": "d1d76dcd-87ee-4fa9-f802-9910e1e9d560",
        "colab": {
          "base_uri": "https://localhost:8080/",
          "height": 357
        }
      },
      "source": [
        "for i in range(0,10):\n",
        "  print(save_file_to_drive(\"dups\"+str(i)+\".pickle\", \"dups\"+str(i)+\".pickle\"))"
      ],
      "execution_count": 0,
      "outputs": [
        {
          "output_type": "stream",
          "text": [
            "File ID: 1oi8B1B_BRLaj83ejij_pXVuX8T8AehFR\n",
            "{'id': '1oi8B1B_BRLaj83ejij_pXVuX8T8AehFR'}\n",
            "File ID: 1bhNVnhLC1OfNEPOxHAwIt8D-frxvWAi8\n",
            "{'id': '1bhNVnhLC1OfNEPOxHAwIt8D-frxvWAi8'}\n",
            "File ID: 1M1fUHhI-9Zfy3U9xgDCWqW5kXN5T-F9T\n",
            "{'id': '1M1fUHhI-9Zfy3U9xgDCWqW5kXN5T-F9T'}\n",
            "File ID: 1FdYteU4_gb9th2bNgTlSTR5BBchNfPvk\n",
            "{'id': '1FdYteU4_gb9th2bNgTlSTR5BBchNfPvk'}\n",
            "File ID: 1raHWlBTEc3miFBB_zIZkXYbuy6wa0evH\n",
            "{'id': '1raHWlBTEc3miFBB_zIZkXYbuy6wa0evH'}\n",
            "File ID: 1sxPiWauqVC_d3GoRqhG3bhJyewCWn0Nn\n",
            "{'id': '1sxPiWauqVC_d3GoRqhG3bhJyewCWn0Nn'}\n",
            "File ID: 1rD35VB4AqYiwzlTlJpKeKxPjzHw4i5bR\n",
            "{'id': '1rD35VB4AqYiwzlTlJpKeKxPjzHw4i5bR'}\n",
            "File ID: 1n8qZcbPfM6K4yWjbK4DSmNTuZtMWMLuf\n",
            "{'id': '1n8qZcbPfM6K4yWjbK4DSmNTuZtMWMLuf'}\n",
            "File ID: 1-TuH0pilsS_m7dnNKoC4VX9UegTJ7tPp\n",
            "{'id': '1-TuH0pilsS_m7dnNKoC4VX9UegTJ7tPp'}\n",
            "File ID: 1Q0_RYrDj7GCjhSDUlh9PADS2xNHHXRM5\n",
            "{'id': '1Q0_RYrDj7GCjhSDUlh9PADS2xNHHXRM5'}\n"
          ],
          "name": "stdout"
        }
      ]
    }
  ]
}